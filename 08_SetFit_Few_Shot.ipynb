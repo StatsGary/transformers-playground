{
 "cells": [
  {
   "attachments": {},
   "cell_type": "markdown",
   "metadata": {},
   "source": [
    "# Setfit few shot learning"
   ]
  },
  {
   "cell_type": "code",
   "execution_count": null,
   "metadata": {},
   "outputs": [],
   "source": [
    "#!pip install setfit"
   ]
  },
  {
   "cell_type": "code",
   "execution_count": 2,
   "metadata": {},
   "outputs": [],
   "source": [
    "from datasets import load_dataset\n",
    "from sentence_transformers.losses import CosineSimilarityLoss\n",
    "from setfit import SetFitModel, SetFitTrainer"
   ]
  },
  {
   "cell_type": "code",
   "execution_count": 3,
   "metadata": {},
   "outputs": [
    {
     "data": {
      "application/vnd.jupyter.widget-view+json": {
       "model_id": "49957c2ac2644363ab4243b8e98f582c",
       "version_major": 2,
       "version_minor": 0
      },
      "text/plain": [
       "Downloading readme:   0%|          | 0.00/447 [00:00<?, ?B/s]"
      ]
     },
     "metadata": {},
     "output_type": "display_data"
    },
    {
     "name": "stderr",
     "output_type": "stream",
     "text": [
      "Using custom data configuration SetFit--SentEval-CR-c9aa0d3185fe82a0\n"
     ]
    },
    {
     "name": "stdout",
     "output_type": "stream",
     "text": [
      "Downloading and preparing dataset json/SetFit--SentEval-CR to /home/gary_hutson/.cache/huggingface/datasets/SetFit___json/SetFit--SentEval-CR-c9aa0d3185fe82a0/0.0.0/0f7e3662623656454fcd2b650f34e886a7db4b9104504885bd462096cc7a9f51...\n"
     ]
    },
    {
     "data": {
      "application/vnd.jupyter.widget-view+json": {
       "model_id": "5aa344b6ebee4465a82218a37282fbc9",
       "version_major": 2,
       "version_minor": 0
      },
      "text/plain": [
       "Downloading data files:   0%|          | 0/2 [00:00<?, ?it/s]"
      ]
     },
     "metadata": {},
     "output_type": "display_data"
    },
    {
     "data": {
      "application/vnd.jupyter.widget-view+json": {
       "model_id": "b44b1e3452cf42f1ac02093f3654cb89",
       "version_major": 2,
       "version_minor": 0
      },
      "text/plain": [
       "Downloading data:   0%|          | 0.00/427k [00:00<?, ?B/s]"
      ]
     },
     "metadata": {},
     "output_type": "display_data"
    },
    {
     "data": {
      "application/vnd.jupyter.widget-view+json": {
       "model_id": "eb31af64abce41f49a91d5e324cdce95",
       "version_major": 2,
       "version_minor": 0
      },
      "text/plain": [
       "Downloading data:   0%|          | 0.00/109k [00:00<?, ?B/s]"
      ]
     },
     "metadata": {},
     "output_type": "display_data"
    },
    {
     "data": {
      "application/vnd.jupyter.widget-view+json": {
       "model_id": "dd2dc2228d14453cb3ca7ee2230515dd",
       "version_major": 2,
       "version_minor": 0
      },
      "text/plain": [
       "Extracting data files:   0%|          | 0/2 [00:00<?, ?it/s]"
      ]
     },
     "metadata": {},
     "output_type": "display_data"
    },
    {
     "data": {
      "application/vnd.jupyter.widget-view+json": {
       "model_id": "2042b42dc13648558cd28299291c9e15",
       "version_major": 2,
       "version_minor": 0
      },
      "text/plain": [
       "Generating train split: 0 examples [00:00, ? examples/s]"
      ]
     },
     "metadata": {},
     "output_type": "display_data"
    },
    {
     "data": {
      "application/vnd.jupyter.widget-view+json": {
       "model_id": "ab2b61bbe89f425f8af21f0a121d71d3",
       "version_major": 2,
       "version_minor": 0
      },
      "text/plain": [
       "Generating test split: 0 examples [00:00, ? examples/s]"
      ]
     },
     "metadata": {},
     "output_type": "display_data"
    },
    {
     "name": "stdout",
     "output_type": "stream",
     "text": [
      "Dataset json downloaded and prepared to /home/gary_hutson/.cache/huggingface/datasets/SetFit___json/SetFit--SentEval-CR-c9aa0d3185fe82a0/0.0.0/0f7e3662623656454fcd2b650f34e886a7db4b9104504885bd462096cc7a9f51. Subsequent calls will reuse this data.\n"
     ]
    },
    {
     "data": {
      "application/vnd.jupyter.widget-view+json": {
       "model_id": "8e3fda62e87d41a0a1d1c1a3d722f428",
       "version_major": 2,
       "version_minor": 0
      },
      "text/plain": [
       "  0%|          | 0/2 [00:00<?, ?it/s]"
      ]
     },
     "metadata": {},
     "output_type": "display_data"
    }
   ],
   "source": [
    "dataset = load_dataset(\"SetFit/SentEval-CR\")"
   ]
  },
  {
   "cell_type": "code",
   "execution_count": 18,
   "metadata": {},
   "outputs": [
    {
     "name": "stdout",
     "output_type": "stream",
     "text": [
      "------------------------------ [TEXT] ------------------------------\n",
      "many of our disney movies do n 't play on this dvd player .\n",
      "------------------------------ [LABEL] ------------------------------\n",
      "0\n",
      "------------------------------ [TEXT] ------------------------------\n",
      "player has a problem with dual-layer dvd 's such as alias season 1 and season 2 .\n",
      "------------------------------ [LABEL] ------------------------------\n",
      "0\n",
      "------------------------------ [TEXT] ------------------------------\n",
      "i know the saying is `` you get what you pay for `` but at this stage of game dvd players must have better quality than this - there is no excuse .\n",
      "------------------------------ [LABEL] ------------------------------\n",
      "0\n",
      "------------------------------ [TEXT] ------------------------------\n",
      "will never purchase apex again .\n",
      "------------------------------ [LABEL] ------------------------------\n",
      "0\n",
      "------------------------------ [TEXT] ------------------------------\n",
      "customer service and technical support are overloaded and non responsive - tells you about the quality of their products and their willingness to stand behind them .\n",
      "------------------------------ [LABEL] ------------------------------\n",
      "0\n",
      "------------------------------ [TEXT] ------------------------------\n",
      "then my dvds would stop playing in the middle , or not even be read at all .\n",
      "------------------------------ [LABEL] ------------------------------\n",
      "0\n",
      "------------------------------ [TEXT] ------------------------------\n",
      "new cds almost always began skipping after a few plays .\n",
      "------------------------------ [LABEL] ------------------------------\n",
      "0\n",
      "------------------------------ [TEXT] ------------------------------\n",
      "i thought it was just the player , but then i started checking the discs to find that the apex 2600 is actually ruining my media .\n",
      "------------------------------ [LABEL] ------------------------------\n",
      "0\n",
      "------------------------------ [TEXT] ------------------------------\n",
      "this player is not worth any price and i recommend that you do n 't purchase it .\n",
      "------------------------------ [LABEL] ------------------------------\n",
      "0\n",
      "------------------------------ [TEXT] ------------------------------\n",
      "apex does n 't answer the phone .\n",
      "------------------------------ [LABEL] ------------------------------\n",
      "0\n",
      "------------------------------ [TEXT] ------------------------------\n",
      "no way to contact their customer service .\n",
      "------------------------------ [LABEL] ------------------------------\n",
      "0\n",
      "------------------------------ [TEXT] ------------------------------\n",
      "they play just about everything , but # 2 and # 3 died very shortly after getting them .\n",
      "------------------------------ [LABEL] ------------------------------\n",
      "0\n"
     ]
    }
   ],
   "source": [
    "padd_len = 30\n",
    "iterate = 10\n",
    "\n",
    "for idx, i in enumerate(dataset['train']):\n",
    "    # Print the text\n",
    "    print('-' * padd_len, '[TEXT]', '-' * padd_len)\n",
    "    print(dataset['train']['text'][idx])\n",
    "    # Print the label\n",
    "    print('-' * padd_len, '[LABEL]', '-' * padd_len)\n",
    "    print(dataset['train']['label'][idx])\n",
    "\n",
    "    # Break the print after n iterations\n",
    "    if idx > iterate:\n",
    "        break\n"
   ]
  },
  {
   "attachments": {},
   "cell_type": "markdown",
   "metadata": {},
   "source": [
    "# Simulate few shot learning by sampling 8 examples per class"
   ]
  }
 ],
 "metadata": {
  "kernelspec": {
   "display_name": "transformers",
   "language": "python",
   "name": "python3"
  },
  "language_info": {
   "codemirror_mode": {
    "name": "ipython",
    "version": 3
   },
   "file_extension": ".py",
   "mimetype": "text/x-python",
   "name": "python",
   "nbconvert_exporter": "python",
   "pygments_lexer": "ipython3",
   "version": "3.8.15"
  },
  "orig_nbformat": 4,
  "vscode": {
   "interpreter": {
    "hash": "5c533d9af2e08da58f6681c911ab7a739b80a20c047f5849b1d93f19f3310bb2"
   }
  }
 },
 "nbformat": 4,
 "nbformat_minor": 2
}
